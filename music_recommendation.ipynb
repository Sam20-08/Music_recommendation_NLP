{
  "nbformat": 4,
  "nbformat_minor": 0,
  "metadata": {
    "colab": {
      "provenance": [],
      "gpuType": "T4"
    },
    "kernelspec": {
      "name": "python3",
      "display_name": "Python 3"
    },
    "language_info": {
      "name": "python"
    },
    "accelerator": "GPU"
  },
  "cells": [
    {
      "cell_type": "markdown",
      "source": [],
      "metadata": {
        "id": "FvCaGr1YsZdY"
      }
    },
    {
      "cell_type": "code",
      "execution_count": 1,
      "metadata": {
        "id": "PmXcKkBxrchJ"
      },
      "outputs": [],
      "source": [
        "import pandas as pd"
      ]
    },
    {
      "cell_type": "code",
      "source": [
        "import pandas as pd\n",
        "\n",
        "chunk_size = 1000  # Adjust based on your system's memory\n",
        "file_path = \"/content/spotify_millsongdata.csv\"\n",
        "\n",
        "chunks = []  # List to hold chunks\n",
        "\n",
        "try:\n",
        "    for chunk in pd.read_csv(file_path, chunksize=chunk_size, engine='python'):\n",
        "        chunks.append(chunk)  # Append each chunk to the list\n",
        "except Exception as e:\n",
        "    print(f\"Error: {e}\")\n",
        "\n",
        "# Concatenate all chunks to form the complete DataFrame\n",
        "df = pd.concat(chunks, ignore_index=True)\n",
        "\n",
        "# Find the overall shape of the DataFrame\n",
        "print(f\"Overall shape of the DataFrame: {df.shape}\")\n"
      ],
      "metadata": {
        "id": "jw5qc6utsC4l",
        "colab": {
          "base_uri": "https://localhost:8080/"
        },
        "outputId": "881d306a-c231-4e16-c161-9cd68a202189"
      },
      "execution_count": 2,
      "outputs": [
        {
          "output_type": "stream",
          "name": "stdout",
          "text": [
            "Error: unexpected end of data\n",
            "Overall shape of the DataFrame: (2000, 4)\n"
          ]
        }
      ]
    },
    {
      "cell_type": "code",
      "source": [
        "df.head()"
      ],
      "metadata": {
        "colab": {
          "base_uri": "https://localhost:8080/",
          "height": 466
        },
        "id": "VdJuLcELZ7ju",
        "outputId": "05760b71-2cb1-4701-b8bf-6928f5866987"
      },
      "execution_count": 3,
      "outputs": [
        {
          "output_type": "execute_result",
          "data": {
            "text/plain": [
              "  artist                   song                                        link  \\\n",
              "0   ABBA  Ahe's My Kind Of Girl  /a/abba/ahes+my+kind+of+girl_20598417.html   \n",
              "1   ABBA       Andante, Andante       /a/abba/andante+andante_20002708.html   \n",
              "2   ABBA         As Good As New        /a/abba/as+good+as+new_20003033.html   \n",
              "3   ABBA                   Bang                  /a/abba/bang_20598415.html   \n",
              "4   ABBA       Bang-A-Boomerang      /a/abba/bang+a+boomerang_20002668.html   \n",
              "\n",
              "                                                text  \n",
              "0  Look at her face, it's a wonderful face  \\r\\nA...  \n",
              "1  Take it easy with me, please  \\r\\nTouch me gen...  \n",
              "2  I'll never know why I had to go  \\r\\nWhy I had...  \n",
              "3  Making somebody happy is a question of give an...  \n",
              "4  Making somebody happy is a question of give an...  "
            ],
            "text/html": [
              "\n",
              "  <div id=\"df-5e88acd5-8ae1-4abe-92ee-276d4120b744\" class=\"colab-df-container\">\n",
              "    <div>\n",
              "<style scoped>\n",
              "    .dataframe tbody tr th:only-of-type {\n",
              "        vertical-align: middle;\n",
              "    }\n",
              "\n",
              "    .dataframe tbody tr th {\n",
              "        vertical-align: top;\n",
              "    }\n",
              "\n",
              "    .dataframe thead th {\n",
              "        text-align: right;\n",
              "    }\n",
              "</style>\n",
              "<table border=\"1\" class=\"dataframe\">\n",
              "  <thead>\n",
              "    <tr style=\"text-align: right;\">\n",
              "      <th></th>\n",
              "      <th>artist</th>\n",
              "      <th>song</th>\n",
              "      <th>link</th>\n",
              "      <th>text</th>\n",
              "    </tr>\n",
              "  </thead>\n",
              "  <tbody>\n",
              "    <tr>\n",
              "      <th>0</th>\n",
              "      <td>ABBA</td>\n",
              "      <td>Ahe's My Kind Of Girl</td>\n",
              "      <td>/a/abba/ahes+my+kind+of+girl_20598417.html</td>\n",
              "      <td>Look at her face, it's a wonderful face  \\r\\nA...</td>\n",
              "    </tr>\n",
              "    <tr>\n",
              "      <th>1</th>\n",
              "      <td>ABBA</td>\n",
              "      <td>Andante, Andante</td>\n",
              "      <td>/a/abba/andante+andante_20002708.html</td>\n",
              "      <td>Take it easy with me, please  \\r\\nTouch me gen...</td>\n",
              "    </tr>\n",
              "    <tr>\n",
              "      <th>2</th>\n",
              "      <td>ABBA</td>\n",
              "      <td>As Good As New</td>\n",
              "      <td>/a/abba/as+good+as+new_20003033.html</td>\n",
              "      <td>I'll never know why I had to go  \\r\\nWhy I had...</td>\n",
              "    </tr>\n",
              "    <tr>\n",
              "      <th>3</th>\n",
              "      <td>ABBA</td>\n",
              "      <td>Bang</td>\n",
              "      <td>/a/abba/bang_20598415.html</td>\n",
              "      <td>Making somebody happy is a question of give an...</td>\n",
              "    </tr>\n",
              "    <tr>\n",
              "      <th>4</th>\n",
              "      <td>ABBA</td>\n",
              "      <td>Bang-A-Boomerang</td>\n",
              "      <td>/a/abba/bang+a+boomerang_20002668.html</td>\n",
              "      <td>Making somebody happy is a question of give an...</td>\n",
              "    </tr>\n",
              "  </tbody>\n",
              "</table>\n",
              "</div>\n",
              "    <div class=\"colab-df-buttons\">\n",
              "\n",
              "  <div class=\"colab-df-container\">\n",
              "    <button class=\"colab-df-convert\" onclick=\"convertToInteractive('df-5e88acd5-8ae1-4abe-92ee-276d4120b744')\"\n",
              "            title=\"Convert this dataframe to an interactive table.\"\n",
              "            style=\"display:none;\">\n",
              "\n",
              "  <svg xmlns=\"http://www.w3.org/2000/svg\" height=\"24px\" viewBox=\"0 -960 960 960\">\n",
              "    <path d=\"M120-120v-720h720v720H120Zm60-500h600v-160H180v160Zm220 220h160v-160H400v160Zm0 220h160v-160H400v160ZM180-400h160v-160H180v160Zm440 0h160v-160H620v160ZM180-180h160v-160H180v160Zm440 0h160v-160H620v160Z\"/>\n",
              "  </svg>\n",
              "    </button>\n",
              "\n",
              "  <style>\n",
              "    .colab-df-container {\n",
              "      display:flex;\n",
              "      gap: 12px;\n",
              "    }\n",
              "\n",
              "    .colab-df-convert {\n",
              "      background-color: #E8F0FE;\n",
              "      border: none;\n",
              "      border-radius: 50%;\n",
              "      cursor: pointer;\n",
              "      display: none;\n",
              "      fill: #1967D2;\n",
              "      height: 32px;\n",
              "      padding: 0 0 0 0;\n",
              "      width: 32px;\n",
              "    }\n",
              "\n",
              "    .colab-df-convert:hover {\n",
              "      background-color: #E2EBFA;\n",
              "      box-shadow: 0px 1px 2px rgba(60, 64, 67, 0.3), 0px 1px 3px 1px rgba(60, 64, 67, 0.15);\n",
              "      fill: #174EA6;\n",
              "    }\n",
              "\n",
              "    .colab-df-buttons div {\n",
              "      margin-bottom: 4px;\n",
              "    }\n",
              "\n",
              "    [theme=dark] .colab-df-convert {\n",
              "      background-color: #3B4455;\n",
              "      fill: #D2E3FC;\n",
              "    }\n",
              "\n",
              "    [theme=dark] .colab-df-convert:hover {\n",
              "      background-color: #434B5C;\n",
              "      box-shadow: 0px 1px 3px 1px rgba(0, 0, 0, 0.15);\n",
              "      filter: drop-shadow(0px 1px 2px rgba(0, 0, 0, 0.3));\n",
              "      fill: #FFFFFF;\n",
              "    }\n",
              "  </style>\n",
              "\n",
              "    <script>\n",
              "      const buttonEl =\n",
              "        document.querySelector('#df-5e88acd5-8ae1-4abe-92ee-276d4120b744 button.colab-df-convert');\n",
              "      buttonEl.style.display =\n",
              "        google.colab.kernel.accessAllowed ? 'block' : 'none';\n",
              "\n",
              "      async function convertToInteractive(key) {\n",
              "        const element = document.querySelector('#df-5e88acd5-8ae1-4abe-92ee-276d4120b744');\n",
              "        const dataTable =\n",
              "          await google.colab.kernel.invokeFunction('convertToInteractive',\n",
              "                                                    [key], {});\n",
              "        if (!dataTable) return;\n",
              "\n",
              "        const docLinkHtml = 'Like what you see? Visit the ' +\n",
              "          '<a target=\"_blank\" href=https://colab.research.google.com/notebooks/data_table.ipynb>data table notebook</a>'\n",
              "          + ' to learn more about interactive tables.';\n",
              "        element.innerHTML = '';\n",
              "        dataTable['output_type'] = 'display_data';\n",
              "        await google.colab.output.renderOutput(dataTable, element);\n",
              "        const docLink = document.createElement('div');\n",
              "        docLink.innerHTML = docLinkHtml;\n",
              "        element.appendChild(docLink);\n",
              "      }\n",
              "    </script>\n",
              "  </div>\n",
              "\n",
              "\n",
              "<div id=\"df-b87f9be9-2659-4a18-b9cc-ae4e62f2d129\">\n",
              "  <button class=\"colab-df-quickchart\" onclick=\"quickchart('df-b87f9be9-2659-4a18-b9cc-ae4e62f2d129')\"\n",
              "            title=\"Suggest charts\"\n",
              "            style=\"display:none;\">\n",
              "\n",
              "<svg xmlns=\"http://www.w3.org/2000/svg\" height=\"24px\"viewBox=\"0 0 24 24\"\n",
              "     width=\"24px\">\n",
              "    <g>\n",
              "        <path d=\"M19 3H5c-1.1 0-2 .9-2 2v14c0 1.1.9 2 2 2h14c1.1 0 2-.9 2-2V5c0-1.1-.9-2-2-2zM9 17H7v-7h2v7zm4 0h-2V7h2v10zm4 0h-2v-4h2v4z\"/>\n",
              "    </g>\n",
              "</svg>\n",
              "  </button>\n",
              "\n",
              "<style>\n",
              "  .colab-df-quickchart {\n",
              "      --bg-color: #E8F0FE;\n",
              "      --fill-color: #1967D2;\n",
              "      --hover-bg-color: #E2EBFA;\n",
              "      --hover-fill-color: #174EA6;\n",
              "      --disabled-fill-color: #AAA;\n",
              "      --disabled-bg-color: #DDD;\n",
              "  }\n",
              "\n",
              "  [theme=dark] .colab-df-quickchart {\n",
              "      --bg-color: #3B4455;\n",
              "      --fill-color: #D2E3FC;\n",
              "      --hover-bg-color: #434B5C;\n",
              "      --hover-fill-color: #FFFFFF;\n",
              "      --disabled-bg-color: #3B4455;\n",
              "      --disabled-fill-color: #666;\n",
              "  }\n",
              "\n",
              "  .colab-df-quickchart {\n",
              "    background-color: var(--bg-color);\n",
              "    border: none;\n",
              "    border-radius: 50%;\n",
              "    cursor: pointer;\n",
              "    display: none;\n",
              "    fill: var(--fill-color);\n",
              "    height: 32px;\n",
              "    padding: 0;\n",
              "    width: 32px;\n",
              "  }\n",
              "\n",
              "  .colab-df-quickchart:hover {\n",
              "    background-color: var(--hover-bg-color);\n",
              "    box-shadow: 0 1px 2px rgba(60, 64, 67, 0.3), 0 1px 3px 1px rgba(60, 64, 67, 0.15);\n",
              "    fill: var(--button-hover-fill-color);\n",
              "  }\n",
              "\n",
              "  .colab-df-quickchart-complete:disabled,\n",
              "  .colab-df-quickchart-complete:disabled:hover {\n",
              "    background-color: var(--disabled-bg-color);\n",
              "    fill: var(--disabled-fill-color);\n",
              "    box-shadow: none;\n",
              "  }\n",
              "\n",
              "  .colab-df-spinner {\n",
              "    border: 2px solid var(--fill-color);\n",
              "    border-color: transparent;\n",
              "    border-bottom-color: var(--fill-color);\n",
              "    animation:\n",
              "      spin 1s steps(1) infinite;\n",
              "  }\n",
              "\n",
              "  @keyframes spin {\n",
              "    0% {\n",
              "      border-color: transparent;\n",
              "      border-bottom-color: var(--fill-color);\n",
              "      border-left-color: var(--fill-color);\n",
              "    }\n",
              "    20% {\n",
              "      border-color: transparent;\n",
              "      border-left-color: var(--fill-color);\n",
              "      border-top-color: var(--fill-color);\n",
              "    }\n",
              "    30% {\n",
              "      border-color: transparent;\n",
              "      border-left-color: var(--fill-color);\n",
              "      border-top-color: var(--fill-color);\n",
              "      border-right-color: var(--fill-color);\n",
              "    }\n",
              "    40% {\n",
              "      border-color: transparent;\n",
              "      border-right-color: var(--fill-color);\n",
              "      border-top-color: var(--fill-color);\n",
              "    }\n",
              "    60% {\n",
              "      border-color: transparent;\n",
              "      border-right-color: var(--fill-color);\n",
              "    }\n",
              "    80% {\n",
              "      border-color: transparent;\n",
              "      border-right-color: var(--fill-color);\n",
              "      border-bottom-color: var(--fill-color);\n",
              "    }\n",
              "    90% {\n",
              "      border-color: transparent;\n",
              "      border-bottom-color: var(--fill-color);\n",
              "    }\n",
              "  }\n",
              "</style>\n",
              "\n",
              "  <script>\n",
              "    async function quickchart(key) {\n",
              "      const quickchartButtonEl =\n",
              "        document.querySelector('#' + key + ' button');\n",
              "      quickchartButtonEl.disabled = true;  // To prevent multiple clicks.\n",
              "      quickchartButtonEl.classList.add('colab-df-spinner');\n",
              "      try {\n",
              "        const charts = await google.colab.kernel.invokeFunction(\n",
              "            'suggestCharts', [key], {});\n",
              "      } catch (error) {\n",
              "        console.error('Error during call to suggestCharts:', error);\n",
              "      }\n",
              "      quickchartButtonEl.classList.remove('colab-df-spinner');\n",
              "      quickchartButtonEl.classList.add('colab-df-quickchart-complete');\n",
              "    }\n",
              "    (() => {\n",
              "      let quickchartButtonEl =\n",
              "        document.querySelector('#df-b87f9be9-2659-4a18-b9cc-ae4e62f2d129 button');\n",
              "      quickchartButtonEl.style.display =\n",
              "        google.colab.kernel.accessAllowed ? 'block' : 'none';\n",
              "    })();\n",
              "  </script>\n",
              "</div>\n",
              "\n",
              "    </div>\n",
              "  </div>\n"
            ],
            "application/vnd.google.colaboratory.intrinsic+json": {
              "type": "dataframe",
              "variable_name": "df",
              "summary": "{\n  \"name\": \"df\",\n  \"rows\": 2000,\n  \"fields\": [\n    {\n      \"column\": \"artist\",\n      \"properties\": {\n        \"dtype\": \"category\",\n        \"num_unique_values\": 50,\n        \"samples\": [\n          \"Allman Brothers Band\",\n          \"Blur\",\n          \"Beautiful South\"\n        ],\n        \"semantic_type\": \"\",\n        \"description\": \"\"\n      }\n    },\n    {\n      \"column\": \"song\",\n      \"properties\": {\n        \"dtype\": \"string\",\n        \"num_unique_values\": 1950,\n        \"samples\": [\n          \"Stand Alone\",\n          \"Blue Room\",\n          \"Panic\"\n        ],\n        \"semantic_type\": \"\",\n        \"description\": \"\"\n      }\n    },\n    {\n      \"column\": \"link\",\n      \"properties\": {\n        \"dtype\": \"string\",\n        \"num_unique_values\": 2000,\n        \"samples\": [\n          \"/b/bonnie+raitt/meet+me+half+way_20022704.html\",\n          \"/a/aiza+seguerra/ikaw+na+ang+bahala+panalangin_20849556.html\",\n          \"/b/bette+midler/the+girl+is+on+to+you_20208172.html\"\n        ],\n        \"semantic_type\": \"\",\n        \"description\": \"\"\n      }\n    },\n    {\n      \"column\": \"text\",\n      \"properties\": {\n        \"dtype\": \"string\",\n        \"num_unique_values\": 2000,\n        \"samples\": [\n          \"You come home late from work, baby  \\r\\nYou wonder why it ain't on the table  \\r\\nAfter the day that I've had  \\r\\nI don't believe I'm able  \\r\\nYou give me every little reason in the book  \\r\\nBut there's one thing that I think you've overlooked  \\r\\nYou say you're tired, well so am I  \\r\\nBaby you've got to try and  \\r\\nMeet halfway or we ain't gonna make it, baby  \\r\\nMeet halfway if you want to get it right  \\r\\nMeet halfway cause I ain't gonna take it, baby  \\r\\nMeet halfway in the middle of the night  \\r\\nOur love is kind of stalled, baby  \\r\\n  \\r\\nBut it ain't about the sex  \\r\\nI'd trade the roses and the negligees  \\r\\nIf we could just connect  \\r\\nI go deeper when you look into my eyes  \\r\\nThere's a place where neither one of us can hide  \\r\\nAnd it's up to us to reinvent the game  \\r\\nLove it when you call my name and  \\r\\nMeet halfway, ain't no doubt about it, baby  \\r\\nMeet halfway, and we're halfway home  \\r\\nMeet halfway, got to scream and shout it, baby  \\r\\nMeet me halfway and I'll shake you to the bone\\r\\n\\r\\n\",\n          \"Ang ganda ng buhay, mahal kong Diyos  \\r\\nSana papuri sa 'Yoy tunay na malubos  \\r\\nNais kong mabuhay sa mundong kay ganda  \\r\\nNa dinadakila'y pangalan Mo tuwina  \\r\\n  \\r\\n[Chorus]  \\r\\nIkaw na ang bahala sa amin Ama  \\r\\nAt sa mga araw na darating pa  \\r\\nDalangin namin ay pagpalain Mo sana  \\r\\nIkaw ang pag-ibig namin at pag-asa  \\r\\n  \\r\\nIkaw na ang bahala sa amin Ama  \\r\\nAt sa mga araw na darating pa  \\r\\nTanging sa 'Yo lamang hihingi ng awa  \\r\\nSa bawat sandali Ikaw na ang bahala  \\r\\n  \\r\\nMakulay ang buhay, mahal kong Diyos  \\r\\nSana pagmamahal Mo sa mundo'y mabuhos  \\r\\nSalamat sa pag-ibig na nasa puso ko  \\r\\nSalamat sa buhay na galing sa Iyo  \\r\\n  \\r\\n[Chorus]  \\r\\nIkaw na ang bahala sa amin Ama  \\r\\nAt sa mga araw na darating pa  \\r\\nDalangin namin ay pagpalain Mo sana  \\r\\nIkaw ang pag-ibig namin at pag-asa  \\r\\n  \\r\\nIkaw na ang bahala sa amin Ama  \\r\\nAt sa mga araw na darating pa  \\r\\nTanging sa 'Yo lamang hihingi ng awa  \\r\\nSa bawat sandali Ikaw na ang bahala(2x)  \\r\\n  \\r\\nSa bawat sandali Ikaw na ang bahala\\r\\n\\r\\n\",\n          \"I'll bet you think you can just use her the way  \\r\\nYou used to do. I've got news for you.  \\r\\nYour fuse is out. The girl is on to you.  \\r\\n  \\r\\nI'll bet you think you can abuse her and say  \\r\\nYou love her too. I remember pain  \\r\\nYou put her through.  \\r\\nBut the girl is on to you.  \\r\\n  \\r\\nShe's grown much wiser than you realize.  \\r\\nShe will surprise you.  \\r\\nNo more paying for your lies.  \\r\\n  \\r\\nAnd I'll bet you think you can confuse her. But, hey,  \\r\\nThe loser is you. She sees through your eyes.  \\r\\nYou'll soon surmise.  \\r\\nThe girl is on to you.  \\r\\n  \\r\\nShe's grown much wiser than you realize.  \\r\\nShe will surprise you.  \\r\\nNo more paying for your lies.  \\r\\n  \\r\\nOh, and I'll bet you think  \\r\\nYou can confuse her, but, hey,  \\r\\nThe loser is you. She sees through your eyes.  \\r\\nYou'll soon surmise. The girl is on to you.  \\r\\n  \\r\\nShe sees through your eyes.  \\r\\nYou'll soon surmise.  \\r\\nThe girl is on to you.  \\r\\n  \\r\\nShe's on, she's on, she's on.  \\r\\nShe's on, she's on, she's on.  \\r\\nShe's on, she's on, she's on.  \\r\\nOooh. The girl is on to you.  \\r\\nShe's on, she's on, she's on.  \\r\\nNow she's gone, she's gone, she's gone. Oooh.  \\r\\n  \\r\\nI'll bet you think  \\r\\nShe'll come running back to you,  \\r\\nJust like she used to do.  \\r\\nBut the girl is awful strong.  \\r\\nThat's why the girl is gone, gone, gone, gone,  \\r\\nGone, gone, gone, gone, gone.\\r\\n\\r\\n\"\n        ],\n        \"semantic_type\": \"\",\n        \"description\": \"\"\n      }\n    }\n  ]\n}"
            }
          },
          "metadata": {},
          "execution_count": 3
        }
      ]
    },
    {
      "cell_type": "code",
      "source": [
        "df.shape"
      ],
      "metadata": {
        "colab": {
          "base_uri": "https://localhost:8080/"
        },
        "id": "hkVydYUkszf6",
        "outputId": "d34bf392-2a14-483c-922a-3cfcb7c66164"
      },
      "execution_count": 4,
      "outputs": [
        {
          "output_type": "execute_result",
          "data": {
            "text/plain": [
              "(2000, 4)"
            ]
          },
          "metadata": {},
          "execution_count": 4
        }
      ]
    },
    {
      "cell_type": "code",
      "source": [
        "df.isnull().sum()"
      ],
      "metadata": {
        "id": "cZD7IIqms3Fc",
        "colab": {
          "base_uri": "https://localhost:8080/"
        },
        "outputId": "2b30383e-743d-4ec0-8eb8-a7a7e0fcad40"
      },
      "execution_count": 5,
      "outputs": [
        {
          "output_type": "execute_result",
          "data": {
            "text/plain": [
              "artist    0\n",
              "song      0\n",
              "link      0\n",
              "text      0\n",
              "dtype: int64"
            ]
          },
          "metadata": {},
          "execution_count": 5
        }
      ]
    },
    {
      "cell_type": "code",
      "source": [
        "df.drop(columns='link',inplace=True)\n",
        "\n",
        "#df=df.drop('link',axis=1).reset_index(drop=True)"
      ],
      "metadata": {
        "id": "MRiEbLHXaXlw"
      },
      "execution_count": 6,
      "outputs": []
    },
    {
      "cell_type": "code",
      "source": [
        "df['text'][0]"
      ],
      "metadata": {
        "colab": {
          "base_uri": "https://localhost:8080/",
          "height": 192
        },
        "id": "A7XiczDeaXib",
        "outputId": "80f27c05-1bad-4049-8493-318fcae541db"
      },
      "execution_count": 7,
      "outputs": [
        {
          "output_type": "execute_result",
          "data": {
            "text/plain": [
              "\"Look at her face, it's a wonderful face  \\r\\nAnd it means something special to me  \\r\\nLook at the way that she smiles when she sees me  \\r\\nHow lucky can one fellow be?  \\r\\n  \\r\\nShe's just my kind of girl, she makes me feel fine  \\r\\nWho could ever believe that she could be mine?  \\r\\nShe's just my kind of girl, without her I'm blue  \\r\\nAnd if she ever leaves me what could I do, what could I do?  \\r\\n  \\r\\nAnd when we go for a walk in the park  \\r\\nAnd she holds me and squeezes my hand  \\r\\nWe'll go on walking for hours and talking  \\r\\nAbout all the things that we plan  \\r\\n  \\r\\nShe's just my kind of girl, she makes me feel fine  \\r\\nWho could ever believe that she could be mine?  \\r\\nShe's just my kind of girl, without her I'm blue  \\r\\nAnd if she ever leaves me what could I do, what could I do?\\r\\n\\r\\n\""
            ],
            "application/vnd.google.colaboratory.intrinsic+json": {
              "type": "string"
            }
          },
          "metadata": {},
          "execution_count": 7
        }
      ]
    },
    {
      "cell_type": "markdown",
      "source": [
        "## Text Preprocessing"
      ],
      "metadata": {
        "id": "OLLnZFVxcTg-"
      }
    },
    {
      "cell_type": "code",
      "source": [
        "df['text']=df['text'].str.lower().replace(r'^\\w\\s',' ').replace(r'\\n',' ',regex=True)  # \\w\\s ----->(a-zA-Z0-9)"
      ],
      "metadata": {
        "id": "y4cagnPJb_dl"
      },
      "execution_count": 8,
      "outputs": []
    },
    {
      "cell_type": "code",
      "source": [
        "df['text'][0]"
      ],
      "metadata": {
        "colab": {
          "base_uri": "https://localhost:8080/",
          "height": 192
        },
        "id": "oa4u4lT9dpUX",
        "outputId": "2eba20a8-d9a0-45ff-d9cc-fc27523fa641"
      },
      "execution_count": 9,
      "outputs": [
        {
          "output_type": "execute_result",
          "data": {
            "text/plain": [
              "\"look at her face, it's a wonderful face  \\r and it means something special to me  \\r look at the way that she smiles when she sees me  \\r how lucky can one fellow be?  \\r   \\r she's just my kind of girl, she makes me feel fine  \\r who could ever believe that she could be mine?  \\r she's just my kind of girl, without her i'm blue  \\r and if she ever leaves me what could i do, what could i do?  \\r   \\r and when we go for a walk in the park  \\r and she holds me and squeezes my hand  \\r we'll go on walking for hours and talking  \\r about all the things that we plan  \\r   \\r she's just my kind of girl, she makes me feel fine  \\r who could ever believe that she could be mine?  \\r she's just my kind of girl, without her i'm blue  \\r and if she ever leaves me what could i do, what could i do?\\r \\r \""
            ],
            "application/vnd.google.colaboratory.intrinsic+json": {
              "type": "string"
            }
          },
          "metadata": {},
          "execution_count": 9
        }
      ]
    },
    {
      "cell_type": "code",
      "source": [
        "import nltk\n",
        "from nltk.stem.porter import PorterStemmer"
      ],
      "metadata": {
        "id": "ysbWbWX6eD_T"
      },
      "execution_count": 10,
      "outputs": []
    },
    {
      "cell_type": "code",
      "source": [
        "nltk.download('punkt')"
      ],
      "metadata": {
        "colab": {
          "base_uri": "https://localhost:8080/"
        },
        "id": "m1aCTVznhpPW",
        "outputId": "fb47295c-5bc6-4376-cf81-52d94bb4d90e"
      },
      "execution_count": 11,
      "outputs": [
        {
          "output_type": "stream",
          "name": "stderr",
          "text": [
            "[nltk_data] Downloading package punkt to /root/nltk_data...\n",
            "[nltk_data]   Unzipping tokenizers/punkt.zip.\n"
          ]
        },
        {
          "output_type": "execute_result",
          "data": {
            "text/plain": [
              "True"
            ]
          },
          "metadata": {},
          "execution_count": 11
        }
      ]
    },
    {
      "cell_type": "code",
      "source": [
        "stemmer=PorterStemmer()"
      ],
      "metadata": {
        "id": "AjdD8H_DgH9f"
      },
      "execution_count": 12,
      "outputs": []
    },
    {
      "cell_type": "code",
      "source": [
        "def token(txt):\n",
        "  token=nltk.word_tokenize(txt)\n",
        "  a=[stemmer.stem(w) for w in token]\n",
        "  return \" \".join(a)"
      ],
      "metadata": {
        "id": "QVEraOnTgNV9"
      },
      "execution_count": 13,
      "outputs": []
    },
    {
      "cell_type": "code",
      "source": [
        "token('Beautiful,You are beautiful')\n"
      ],
      "metadata": {
        "colab": {
          "base_uri": "https://localhost:8080/",
          "height": 36
        },
        "id": "Zzs2CR5mhWQm",
        "outputId": "a10e0b06-109a-4ea5-9655-1deef1d8478a"
      },
      "execution_count": 14,
      "outputs": [
        {
          "output_type": "execute_result",
          "data": {
            "text/plain": [
              "'beauti , you are beauti'"
            ],
            "application/vnd.google.colaboratory.intrinsic+json": {
              "type": "string"
            }
          },
          "metadata": {},
          "execution_count": 14
        }
      ]
    },
    {
      "cell_type": "code",
      "source": [
        "df['text'].apply(lambda x:token(x))"
      ],
      "metadata": {
        "colab": {
          "base_uri": "https://localhost:8080/"
        },
        "id": "ubBUhxsjio7T",
        "outputId": "7e78e4e8-b2d8-444b-d8fc-4df4f3d945bd"
      },
      "execution_count": 15,
      "outputs": [
        {
          "output_type": "execute_result",
          "data": {
            "text/plain": [
              "0       look at her face , it 's a wonder face and it ...\n",
              "1       take it easi with me , pleas touch me gentli l...\n",
              "2       i 'll never know whi i had to go whi i had to ...\n",
              "3       make somebodi happi is a question of give and ...\n",
              "4       make somebodi happi is a question of give and ...\n",
              "                              ...                        \n",
              "1995    are we readi are we readi readi are we readi a...\n",
              "1996    do i imagin it , or do i see your stare is the...\n",
              "1997    i 'm miss american dream sinc i wa seventeen d...\n",
              "1998    vers 1 : hey princ charm you can kiss my ass i...\n",
              "1999    everybodi readi , caus we gon na get up in thi...\n",
              "Name: text, Length: 2000, dtype: object"
            ]
          },
          "metadata": {},
          "execution_count": 15
        }
      ]
    },
    {
      "cell_type": "code",
      "source": [
        "from sklearn.feature_extraction.text import TfidfVectorizer\n",
        "from sklearn.metrics.pairwise import cosine_similarity"
      ],
      "metadata": {
        "id": "AxJClB7GhlaC"
      },
      "execution_count": 16,
      "outputs": []
    },
    {
      "cell_type": "code",
      "source": [
        "tfidf=TfidfVectorizer(analyzer='word',stop_words='english')"
      ],
      "metadata": {
        "id": "JodxkSMJii62"
      },
      "execution_count": 17,
      "outputs": []
    },
    {
      "cell_type": "code",
      "source": [
        "matrix=tfidf.fit_transform(df['text'])"
      ],
      "metadata": {
        "id": "gZ0EZoXYjyN_"
      },
      "execution_count": 18,
      "outputs": []
    },
    {
      "cell_type": "code",
      "source": [
        "similar=cosine_similarity(matrix)"
      ],
      "metadata": {
        "id": "92Vuqp6oj6J_"
      },
      "execution_count": 20,
      "outputs": []
    },
    {
      "cell_type": "code",
      "source": [
        "similar[0]"
      ],
      "metadata": {
        "id": "96Ojkk3JkJDq",
        "colab": {
          "base_uri": "https://localhost:8080/"
        },
        "outputId": "5e1d71c5-a85e-497b-e5b4-2aed6d4b38ba"
      },
      "execution_count": 21,
      "outputs": [
        {
          "output_type": "execute_result",
          "data": {
            "text/plain": [
              "array([1.        , 0.00186418, 0.00927137, ..., 0.00672121, 0.00861685,\n",
              "       0.        ])"
            ]
          },
          "metadata": {},
          "execution_count": 21
        }
      ]
    },
    {
      "cell_type": "code",
      "source": [
        "df[df['song']==\"Ahe's My Kind Of Girl\"]"
      ],
      "metadata": {
        "colab": {
          "base_uri": "https://localhost:8080/",
          "height": 81
        },
        "id": "856rfD3LP_My",
        "outputId": "7fa0ab54-1f9b-44d7-ee03-84cc68feb7bf"
      },
      "execution_count": 23,
      "outputs": [
        {
          "output_type": "execute_result",
          "data": {
            "text/plain": [
              "  artist                   song  \\\n",
              "0   ABBA  Ahe's My Kind Of Girl   \n",
              "\n",
              "                                                text  \n",
              "0  look at her face, it's a wonderful face  \\r an...  "
            ],
            "text/html": [
              "\n",
              "  <div id=\"df-2be9beab-cc8d-41b6-a97e-58fd5e9b0fe5\" class=\"colab-df-container\">\n",
              "    <div>\n",
              "<style scoped>\n",
              "    .dataframe tbody tr th:only-of-type {\n",
              "        vertical-align: middle;\n",
              "    }\n",
              "\n",
              "    .dataframe tbody tr th {\n",
              "        vertical-align: top;\n",
              "    }\n",
              "\n",
              "    .dataframe thead th {\n",
              "        text-align: right;\n",
              "    }\n",
              "</style>\n",
              "<table border=\"1\" class=\"dataframe\">\n",
              "  <thead>\n",
              "    <tr style=\"text-align: right;\">\n",
              "      <th></th>\n",
              "      <th>artist</th>\n",
              "      <th>song</th>\n",
              "      <th>text</th>\n",
              "    </tr>\n",
              "  </thead>\n",
              "  <tbody>\n",
              "    <tr>\n",
              "      <th>0</th>\n",
              "      <td>ABBA</td>\n",
              "      <td>Ahe's My Kind Of Girl</td>\n",
              "      <td>look at her face, it's a wonderful face  \\r an...</td>\n",
              "    </tr>\n",
              "  </tbody>\n",
              "</table>\n",
              "</div>\n",
              "    <div class=\"colab-df-buttons\">\n",
              "\n",
              "  <div class=\"colab-df-container\">\n",
              "    <button class=\"colab-df-convert\" onclick=\"convertToInteractive('df-2be9beab-cc8d-41b6-a97e-58fd5e9b0fe5')\"\n",
              "            title=\"Convert this dataframe to an interactive table.\"\n",
              "            style=\"display:none;\">\n",
              "\n",
              "  <svg xmlns=\"http://www.w3.org/2000/svg\" height=\"24px\" viewBox=\"0 -960 960 960\">\n",
              "    <path d=\"M120-120v-720h720v720H120Zm60-500h600v-160H180v160Zm220 220h160v-160H400v160Zm0 220h160v-160H400v160ZM180-400h160v-160H180v160Zm440 0h160v-160H620v160ZM180-180h160v-160H180v160Zm440 0h160v-160H620v160Z\"/>\n",
              "  </svg>\n",
              "    </button>\n",
              "\n",
              "  <style>\n",
              "    .colab-df-container {\n",
              "      display:flex;\n",
              "      gap: 12px;\n",
              "    }\n",
              "\n",
              "    .colab-df-convert {\n",
              "      background-color: #E8F0FE;\n",
              "      border: none;\n",
              "      border-radius: 50%;\n",
              "      cursor: pointer;\n",
              "      display: none;\n",
              "      fill: #1967D2;\n",
              "      height: 32px;\n",
              "      padding: 0 0 0 0;\n",
              "      width: 32px;\n",
              "    }\n",
              "\n",
              "    .colab-df-convert:hover {\n",
              "      background-color: #E2EBFA;\n",
              "      box-shadow: 0px 1px 2px rgba(60, 64, 67, 0.3), 0px 1px 3px 1px rgba(60, 64, 67, 0.15);\n",
              "      fill: #174EA6;\n",
              "    }\n",
              "\n",
              "    .colab-df-buttons div {\n",
              "      margin-bottom: 4px;\n",
              "    }\n",
              "\n",
              "    [theme=dark] .colab-df-convert {\n",
              "      background-color: #3B4455;\n",
              "      fill: #D2E3FC;\n",
              "    }\n",
              "\n",
              "    [theme=dark] .colab-df-convert:hover {\n",
              "      background-color: #434B5C;\n",
              "      box-shadow: 0px 1px 3px 1px rgba(0, 0, 0, 0.15);\n",
              "      filter: drop-shadow(0px 1px 2px rgba(0, 0, 0, 0.3));\n",
              "      fill: #FFFFFF;\n",
              "    }\n",
              "  </style>\n",
              "\n",
              "    <script>\n",
              "      const buttonEl =\n",
              "        document.querySelector('#df-2be9beab-cc8d-41b6-a97e-58fd5e9b0fe5 button.colab-df-convert');\n",
              "      buttonEl.style.display =\n",
              "        google.colab.kernel.accessAllowed ? 'block' : 'none';\n",
              "\n",
              "      async function convertToInteractive(key) {\n",
              "        const element = document.querySelector('#df-2be9beab-cc8d-41b6-a97e-58fd5e9b0fe5');\n",
              "        const dataTable =\n",
              "          await google.colab.kernel.invokeFunction('convertToInteractive',\n",
              "                                                    [key], {});\n",
              "        if (!dataTable) return;\n",
              "\n",
              "        const docLinkHtml = 'Like what you see? Visit the ' +\n",
              "          '<a target=\"_blank\" href=https://colab.research.google.com/notebooks/data_table.ipynb>data table notebook</a>'\n",
              "          + ' to learn more about interactive tables.';\n",
              "        element.innerHTML = '';\n",
              "        dataTable['output_type'] = 'display_data';\n",
              "        await google.colab.output.renderOutput(dataTable, element);\n",
              "        const docLink = document.createElement('div');\n",
              "        docLink.innerHTML = docLinkHtml;\n",
              "        element.appendChild(docLink);\n",
              "      }\n",
              "    </script>\n",
              "  </div>\n",
              "\n",
              "\n",
              "    </div>\n",
              "  </div>\n"
            ],
            "application/vnd.google.colaboratory.intrinsic+json": {
              "type": "dataframe",
              "summary": "{\n  \"name\": \"df[df['song']==\\\"Ahe's My Kind Of Girl\\\"]\",\n  \"rows\": 1,\n  \"fields\": [\n    {\n      \"column\": \"artist\",\n      \"properties\": {\n        \"dtype\": \"string\",\n        \"num_unique_values\": 1,\n        \"samples\": [\n          \"ABBA\"\n        ],\n        \"semantic_type\": \"\",\n        \"description\": \"\"\n      }\n    },\n    {\n      \"column\": \"song\",\n      \"properties\": {\n        \"dtype\": \"string\",\n        \"num_unique_values\": 1,\n        \"samples\": [\n          \"Ahe's My Kind Of Girl\"\n        ],\n        \"semantic_type\": \"\",\n        \"description\": \"\"\n      }\n    },\n    {\n      \"column\": \"text\",\n      \"properties\": {\n        \"dtype\": \"string\",\n        \"num_unique_values\": 1,\n        \"samples\": [\n          \"look at her face, it's a wonderful face  \\r and it means something special to me  \\r look at the way that she smiles when she sees me  \\r how lucky can one fellow be?  \\r   \\r she's just my kind of girl, she makes me feel fine  \\r who could ever believe that she could be mine?  \\r she's just my kind of girl, without her i'm blue  \\r and if she ever leaves me what could i do, what could i do?  \\r   \\r and when we go for a walk in the park  \\r and she holds me and squeezes my hand  \\r we'll go on walking for hours and talking  \\r about all the things that we plan  \\r   \\r she's just my kind of girl, she makes me feel fine  \\r who could ever believe that she could be mine?  \\r she's just my kind of girl, without her i'm blue  \\r and if she ever leaves me what could i do, what could i do?\\r \\r \"\n        ],\n        \"semantic_type\": \"\",\n        \"description\": \"\"\n      }\n    }\n  ]\n}"
            }
          },
          "metadata": {},
          "execution_count": 23
        }
      ]
    },
    {
      "cell_type": "code",
      "source": [
        "df[df['song']==\"Ahe's My Kind Of Girl\"].index[0]  # to see the index number"
      ],
      "metadata": {
        "colab": {
          "base_uri": "https://localhost:8080/"
        },
        "id": "zEWwlTODQqbN",
        "outputId": "7c2a4db4-d264-403d-f771-e1baaf755982"
      },
      "execution_count": 26,
      "outputs": [
        {
          "output_type": "execute_result",
          "data": {
            "text/plain": [
              "0"
            ]
          },
          "metadata": {},
          "execution_count": 26
        }
      ]
    },
    {
      "cell_type": "markdown",
      "source": [
        "# Recommendation Function"
      ],
      "metadata": {
        "id": "Y4ncVISYRFzs"
      }
    },
    {
      "cell_type": "code",
      "source": [
        "def recommender(song_name):\n",
        "  idx=df[df['song']==song_name].index[0]\n",
        "  distance=sorted(list(enumerate(similar[idx])),reverse=True,key=lambda x:x[1])\n",
        "  song=[]\n",
        "  for s_id in distance[1:7]:\n",
        "    song.append(df.iloc[s_id[0]].song)\n",
        "  return song"
      ],
      "metadata": {
        "id": "pU9vJoUkQudW"
      },
      "execution_count": 29,
      "outputs": []
    },
    {
      "cell_type": "code",
      "source": [
        "recommender(\"Ahe's My Kind Of Girl\")"
      ],
      "metadata": {
        "colab": {
          "base_uri": "https://localhost:8080/"
        },
        "id": "mfngG_l7S_oG",
        "outputId": "5fb4a522-4bbf-48b5-b181-eb600399658e"
      },
      "execution_count": 30,
      "outputs": [
        {
          "output_type": "execute_result",
          "data": {
            "text/plain": [
              "['I Am Just A Girl',\n",
              " \"That's Me\",\n",
              " 'If I Could Just See You Now',\n",
              " 'Another Girl',\n",
              " \"Nobody's Girl\",\n",
              " 'Be Kind To Me']"
            ]
          },
          "metadata": {},
          "execution_count": 30
        }
      ]
    },
    {
      "cell_type": "code",
      "source": [
        "import pickle"
      ],
      "metadata": {
        "id": "0FzMAglsTH-V"
      },
      "execution_count": 31,
      "outputs": []
    },
    {
      "cell_type": "code",
      "source": [
        "pickle.dump(similar,open(\"similarity\",\"wb\"))"
      ],
      "metadata": {
        "id": "ofTuR93QTtj2"
      },
      "execution_count": 32,
      "outputs": []
    },
    {
      "cell_type": "code",
      "source": [
        "pickle.dump(df,open(\"similarity\",\"wb\"))"
      ],
      "metadata": {
        "id": "IfyFpVhuT6bd"
      },
      "execution_count": 33,
      "outputs": []
    },
    {
      "cell_type": "code",
      "source": [],
      "metadata": {
        "id": "r58AKpqvT-ts"
      },
      "execution_count": null,
      "outputs": []
    }
  ]
}